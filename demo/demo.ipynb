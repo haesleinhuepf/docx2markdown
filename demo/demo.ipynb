{
 "cells": [
  {
   "cell_type": "markdown",
   "id": "743fa96c-60af-4988-89c7-fe94cd972cd1",
   "metadata": {},
   "source": [
    "# docx2markdown\n",
    "In this notebook we convert a docx file to markdown and display the content."
   ]
  },
  {
   "cell_type": "code",
   "execution_count": 1,
   "id": "1086ac2b-4332-43ac-8e2e-9a75e4fdfaa2",
   "metadata": {},
   "outputs": [],
   "source": [
    "import docx2markdown\n",
    "\n",
    "# Example Usage\n",
    "docx_file = \"test-text.docx\"\n",
    "output_md = \"test-text-output.md\"\n",
    "\n",
    "docx2markdown.convert(docx_file, output_md)"
   ]
  },
  {
   "cell_type": "markdown",
   "id": "45a7bf0d-09b0-4344-b453-84f4d7c99ce6",
   "metadata": {},
   "source": [
    "We can then visualize the content of the file:"
   ]
  },
  {
   "cell_type": "code",
   "execution_count": 2,
   "id": "49b9ce28-c09a-4453-a76f-e3b2bf64c8aa",
   "metadata": {},
   "outputs": [
    {
     "data": {
      "text/markdown": [
       "# Headline\n",
       "\n",
       "docx2md supports convertingÂ *simple*Â docx documents to markdown. The following formatting, images and tables are supported:\n",
       "\n",
       "a***b****c*\n",
       "\n",
       "## Subheadline\n",
       "\n",
       "Text bla *italics* **bold** __underlined__\n",
       "\n",
       "- Bullet point\n",
       "\n",
       "  - Level 2 pb\n",
       "\n",
       "  - Level 2 pb\n",
       "\n",
       "- Other point\n",
       "\n",
       "No [Link](http://www.github.com/haesleinhuepf/git-bob)\n",
       "\n",
       "\n",
       "\n",
       "Image:\n",
       "\n",
       "![](images/image1.png)\n",
       "\n",
       "\n",
       "\n",
       "Table:\n",
       "\n",
       "| a | b | c | D |\n",
       "| --- | --- | --- | --- |\n",
       "| 1 | 3 | 5 | 6 |\n",
       "| 2 | 4 | 5 | 6 |\n",
       "\n",
       "\n",
       "\n",
       "\n",
       "Hello world."
      ],
      "text/plain": [
       "<IPython.core.display.Markdown object>"
      ]
     },
     "metadata": {},
     "output_type": "display_data"
    }
   ],
   "source": [
    "from IPython.display import Markdown, display\n",
    "\n",
    "# read the markdown file content\n",
    "with open(output_md, 'r') as file:\n",
    "    markdown_content = file.read()\n",
    "\n",
    "# display markdown content in IPython\n",
    "display(Markdown(markdown_content))"
   ]
  },
  {
   "cell_type": "code",
   "execution_count": null,
   "id": "787f6775-ad47-47bd-962f-19e51627c4fd",
   "metadata": {},
   "outputs": [],
   "source": []
  }
 ],
 "metadata": {
  "kernelspec": {
   "display_name": "Python 3 (ipykernel)",
   "language": "python",
   "name": "python3"
  },
  "language_info": {
   "codemirror_mode": {
    "name": "ipython",
    "version": 3
   },
   "file_extension": ".py",
   "mimetype": "text/x-python",
   "name": "python",
   "nbconvert_exporter": "python",
   "pygments_lexer": "ipython3",
   "version": "3.11.10"
  }
 },
 "nbformat": 4,
 "nbformat_minor": 5
}
