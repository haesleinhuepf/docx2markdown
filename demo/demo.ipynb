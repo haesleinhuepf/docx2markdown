{
 "cells": [
  {
   "cell_type": "markdown",
   "id": "743fa96c-60af-4988-89c7-fe94cd972cd1",
   "metadata": {},
   "source": [
    "# docx to markdown\n",
    "In this notebook we convert a docx file to markdown, back and forth, and display the content."
   ]
  },
  {
   "cell_type": "code",
   "execution_count": 1,
   "id": "1086ac2b-4332-43ac-8e2e-9a75e4fdfaa2",
   "metadata": {},
   "outputs": [],
   "source": [
    "import docx2markdown\n",
    "\n",
    "docx2markdown.docx_to_markdown(\"test-text.docx\", \"test-text-1.md\")"
   ]
  },
  {
   "cell_type": "markdown",
   "id": "04d9eaed-b60f-47df-beb2-c9fa54a14b84",
   "metadata": {},
   "source": [
    "# markdown to docx\n",
    "Next, we convert the file back and forth."
   ]
  },
  {
   "cell_type": "code",
   "execution_count": 2,
   "id": "1926b6d9-9c3d-45c1-9d80-2ce1d9e67290",
   "metadata": {},
   "outputs": [],
   "source": [
    "docx2markdown.markdown_to_docx(\"test-text-1.md\", \"test-text-2.docx\")"
   ]
  },
  {
   "cell_type": "code",
   "execution_count": 3,
   "id": "f6dac3fd-e82a-42c0-acd0-253f02535b68",
   "metadata": {},
   "outputs": [],
   "source": [
    "docx2markdown.docx_to_markdown(\"test-text-2.docx\", \"test-text-3.md\")"
   ]
  },
  {
   "cell_type": "markdown",
   "id": "45a7bf0d-09b0-4344-b453-84f4d7c99ce6",
   "metadata": {},
   "source": [
    "We can then visualize the content of the file:"
   ]
  },
  {
   "cell_type": "code",
   "execution_count": 4,
   "id": "49b9ce28-c09a-4453-a76f-e3b2bf64c8aa",
   "metadata": {},
   "outputs": [
    {
     "data": {
      "text/markdown": [
       "# Headline\n",
       "\n",
       "docx2md supports convertingÂ *simple*Â docx documents to markdown. The following formatting, images and tables are supported:\n",
       "\n",
       "a***b******c*\n",
       "\n",
       "## Subheadline\n",
       "\n",
       "Text bla *italics* **bold** __underlined__\n",
       "\n",
       "- Bullet point\n",
       "\n",
       "  - Level 2 pb\n",
       "\n",
       "  - Level 2 pb\n",
       "\n",
       "- Other point\n",
       "\n",
       "A [Link](http://www.github.com/haesleinhuepf/git-bob) and more and another [link](https://github.com/haesleinhuepf/m2d).\n",
       "\n",
       "Image:\n",
       "\n",
       "![](images/image1.png)\n",
       "\n",
       "Table:\n",
       "\n",
       "| a | b | c | D |\n",
       "| --- | --- | --- | --- |\n",
       "| 1 | 3 | 5 | 6 |\n",
       "| 2 | 4 | 5 | 6 |\n",
       "\n",
       "\n",
       "Hello world."
      ],
      "text/plain": [
       "<IPython.core.display.Markdown object>"
      ]
     },
     "metadata": {},
     "output_type": "display_data"
    }
   ],
   "source": [
    "from IPython.display import Markdown, display\n",
    "\n",
    "# read the markdown file content\n",
    "with open(\"test-text-3.md\", 'r') as file:\n",
    "    markdown_content = file.read()\n",
    "\n",
    "# display markdown content in IPython\n",
    "display(Markdown(markdown_content))"
   ]
  },
  {
   "cell_type": "code",
   "execution_count": null,
   "id": "787f6775-ad47-47bd-962f-19e51627c4fd",
   "metadata": {},
   "outputs": [],
   "source": []
  }
 ],
 "metadata": {
  "kernelspec": {
   "display_name": "Python 3 (ipykernel)",
   "language": "python",
   "name": "python3"
  },
  "language_info": {
   "codemirror_mode": {
    "name": "ipython",
    "version": 3
   },
   "file_extension": ".py",
   "mimetype": "text/x-python",
   "name": "python",
   "nbconvert_exporter": "python",
   "pygments_lexer": "ipython3",
   "version": "3.11.10"
  }
 },
 "nbformat": 4,
 "nbformat_minor": 5
}
